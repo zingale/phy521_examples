{
 "cells": [
  {
   "cell_type": "code",
   "execution_count": 1,
   "id": "7c3497c5-aad1-4ccd-a04a-bddc3ba82c37",
   "metadata": {},
   "outputs": [],
   "source": [
    "import numpy as np\n",
    "import matplotlib.pyplot as plt"
   ]
  },
  {
   "cell_type": "markdown",
   "id": "75cd67ae-4fb8-45da-8dc9-1debbc2733ce",
   "metadata": {},
   "source": [
    "We'll use an EOS of the form:\n",
    "\n",
    "$$P = K \\left ( \\frac{\\rho}{\\rho_0} \\right )^\\gamma$$\n",
    "\n",
    "If we choose $K = 3.5 \\mathrm{MeV~fm^{-3}}$ and $\\rho_0 = 150 \\mathrm{MeV~fm^{-3}}$, we approximate the behavior of teh SLy4 nuclear EOS (thanks to Tianqi Zhao for these approximations) with $\\gamma = 2.5$.\n",
    "\n",
    "In CGS units, using $\\gamma = 2.5$, we can take $K = 4.80\\times 10^{-3} \\mathrm{erg~cm^{-3}}$ and write this as:\n",
    "\n",
    "$$P = K \\rho^\\gamma$$\n"
   ]
  },
  {
   "cell_type": "code",
   "execution_count": 2,
   "id": "4e6ccf05-341e-4654-b1f4-76a424e27ee1",
   "metadata": {},
   "outputs": [],
   "source": [
    "class Integrator:\n",
    "    \"\"\" this is a simple RK4 integrator with a uniform step size\n",
    "    that can accept a list of stopping criteria to halt the integration.\n",
    "\n",
    "    There is one list element for each variable.  An entry of \"None\"\n",
    "    means that we have no stopping criteria for that variable.  A tuple\n",
    "    of the form (\"LT\", val) or (\"GT\", val), means that we stop if\n",
    "    y[n] < val (or y[n] > val)\n",
    "    \"\"\"\n",
    "\n",
    "    def __init__(self, rhs=None, stop_cond=None, rhs_args=None):\n",
    "        self.rhs = rhs\n",
    "        self.stop_cond = stop_cond\n",
    "        if rhs_args is None:\n",
    "            rhs_args = []\n",
    "        self.args = rhs_args\n",
    "\n",
    "    def rk4_step(self, x, y, dx):\n",
    "\n",
    "        dydx1 = self.rhs(x, y, *self.args)\n",
    "        y1 = y + 0.5*dx*dydx1\n",
    "        if self.check_stop_cond(y1) < 0: return None\n",
    "\n",
    "        dydx2 = self.rhs(x + 0.5*dx, y1, *self.args)\n",
    "        y2 = y + 0.5*dx*dydx2\n",
    "        if self.check_stop_cond(y2) < 0: return None\n",
    "\n",
    "        dydx3 = self.rhs(x + 0.5*dx, y2, *self.args)\n",
    "        y3 = y + dx*dydx3\n",
    "        if self.check_stop_cond(y3) < 0: return None\n",
    "\n",
    "        dydx4 = self.rhs(x + dx, y3, *self.args)\n",
    "\n",
    "        y_final = y + (dx/6.0)*(dydx1 + 2.0*dydx2 + 2.0*dydx3 + dydx4)\n",
    "        if self.check_stop_cond(y_final) < 0: return None\n",
    "\n",
    "        return y_final\n",
    "\n",
    "    def check_stop_cond(self, y):\n",
    "        # check our stopping conditions\n",
    "        if not self.stop_cond is None:\n",
    "            for n, cond in enumerate(self.stop_cond):\n",
    "                if cond is None: continue\n",
    "                c, v = cond\n",
    "                if c == \"LT\":\n",
    "                    if y[n] < v: return -1\n",
    "                elif c == \"GT\":\n",
    "                    if ynew[n] > v: return -1\n",
    "                else:\n",
    "                    sys.exit(\"invalid condition\")\n",
    "\n",
    "        return 0\n",
    "\n",
    "    def integrate(self, initial_conditions, dx, xmax):\n",
    "        ic = np.array(initial_conditions)\n",
    "        N = len(ic)\n",
    "        sol = {}\n",
    "        for n in range(N):\n",
    "            sol[f\"y{n}\"] = [ic[n]]\n",
    "\n",
    "        x = 0.0\n",
    "        sol[\"x\"] = [x]\n",
    "\n",
    "        y = initial_conditions\n",
    "        while (x < xmax):\n",
    "\n",
    "            # advance for a step\n",
    "            ynew = self.rk4_step(x, y, dx)\n",
    "\n",
    "            if ynew is None: break\n",
    "\n",
    "            # store the solution\n",
    "            x += dx\n",
    "            sol[\"x\"].append(x)\n",
    "            for n in range(N):\n",
    "                sol[f\"y{n}\"].append(ynew[n])\n",
    "\n",
    "            y = ynew\n",
    "\n",
    "        return sol"
   ]
  },
  {
   "cell_type": "code",
   "execution_count": 3,
   "id": "17c90eb1-73a0-4e6f-9e25-4ba7484b2b19",
   "metadata": {},
   "outputs": [],
   "source": [
    "def rhs_tov(r, y, K, gamma):\n",
    "\n",
    "    c = 3.e10  # speed of light in CGS\n",
    "    G = 6.67e-8\n",
    "\n",
    "    m = y[0]\n",
    "    p = y[1]\n",
    "\n",
    "    rho = (p/K)**(1.0/gamma)\n",
    "    \n",
    "    if r == 0:\n",
    "        dmdr = 0.0\n",
    "    else:\n",
    "        dmdr = 4.0*np.pi*r**2*rho #/ np.sqrt(1 - 2*G*m/(r*c**2))\n",
    "        \n",
    "    if r == 0.0:\n",
    "        dpdr = 0.0\n",
    "    else:\n",
    "        rho_term = rho + p/c**2\n",
    "        m_term = m + 4.0*np.pi*r**3*p/c**2\n",
    "        metric_term = (1.0 - 2.0*G*m/(r*c**2))\n",
    "        dpdr = -(G/r**2)*rho_term*m_term/metric_term\n",
    "\n",
    "    return np.array([dmdr, dpdr])"
   ]
  },
  {
   "cell_type": "code",
   "execution_count": 8,
   "id": "c11a7474-7100-4b3e-886e-169a35b5ba4d",
   "metadata": {},
   "outputs": [],
   "source": [
    "# neutron star\n",
    "gamma = 2.5\n",
    "K = 4.8e-3\n",
    "ns_tov = Integrator(rhs=rhs_tov, rhs_args=[K, gamma],\n",
    "                    stop_cond=[(\"LT\", 0.0), (\"LT\", 0.0)])\n",
    "\n",
    "R_max = 5.e6\n",
    "N = 4000\n",
    "\n",
    "# my vector is [m, p]\n",
    "mass = []\n",
    "radius = []\n",
    "for rhoc in np.logspace(np.log10(5.e14), np.log10(5.e16), 100):\n",
    "\n",
    "    pc = K*rhoc**gamma\n",
    "\n",
    "    tov_sol = ns_tov.integrate([0.0, pc], R_max/N, R_max)\n",
    "    #newtonian_sol = ns_newtonian.integrate([0.0, pc], R_max/N, R_max)\n",
    "\n",
    "    mass.append(tov_sol[\"y0\"][-1]/2.e33)\n",
    "    radius.append(tov_sol[\"x\"][-1]/1.e5)"
   ]
  },
  {
   "cell_type": "code",
   "execution_count": 9,
   "id": "afec6279-8090-4325-80fd-3a068a4ef4bf",
   "metadata": {},
   "outputs": [
    {
     "data": {
      "text/plain": [
       "Text(0, 0.5, 'M [solar masses]')"
      ]
     },
     "execution_count": 9,
     "metadata": {},
     "output_type": "execute_result"
    },
    {
     "data": {
      "image/png": "[encoded data removed]",
      "text/plain": [
       "<Figure size 432x288 with 1 Axes>"
      ]
     },
     "metadata": {
      "needs_background": "light"
     },
     "output_type": "display_data"
    }
   ],
   "source": [
    "plt.plot(radius, mass)\n",
    "plt.xlabel(\"R [km]\")\n",
    "plt.ylabel(\"M [solar masses]\")\n"
   ]
  },
  {
   "cell_type": "code",
   "execution_count": null,
   "id": "916d5bcb-e5e5-4975-b270-21649b0a5188",
   "metadata": {},
   "outputs": [],
   "source": []
  }
 ],
 "metadata": {
  "kernelspec": {
   "display_name": "Python 3 (ipykernel)",
   "language": "python",
   "name": "python3"
  },
  "language_info": {
   "codemirror_mode": {
    "name": "ipython",
    "version": 3
   },
   "file_extension": ".py",
   "mimetype": "text/x-python",
   "name": "python",
   "nbconvert_exporter": "python",
   "pygments_lexer": "ipython3",
   "version": "3.9.7"
  }
 },
 "nbformat": 4,
 "nbformat_minor": 5
}
