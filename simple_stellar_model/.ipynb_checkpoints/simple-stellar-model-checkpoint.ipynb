{
 "cells": [
  {
   "cell_type": "markdown",
   "metadata": {},
   "source": [
    "# PHY 521: Stars\n",
    "## homework #1 solutions\n",
    "\n",
    "I'm using SymPy -- the symbolic math library for python -- to do the algebra here.  The next 2 cells load SymPy for interactive work and define the variables we are going to use (and treat as math symbols)"
   ]
  },
  {
   "cell_type": "code",
   "execution_count": 1,
   "metadata": {},
   "outputs": [
    {
     "name": "stdout",
     "output_type": "stream",
     "text": [
      "IPython console for SymPy 1.8 (Python 3.9.7-64-bit) (ground types: python)\n",
      "\n",
      "These commands were executed:\n",
      ">>> from __future__ import division\n",
      ">>> from sympy import *\n",
      ">>> x, y, z, t = symbols('x y z t')\n",
      ">>> k, m, n = symbols('k m n', integer=True)\n",
      ">>> f, g, h = symbols('f g h', cls=Function)\n",
      ">>> init_printing()\n",
      "\n",
      "Documentation can be found at https://docs.sympy.org/1.8/\n",
      "\n"
     ]
    }
   ],
   "source": [
    "from sympy import init_session\n",
    "init_session()\n",
    "%matplotlib inline"
   ]
  },
  {
   "cell_type": "code",
   "execution_count": 2,
   "metadata": {},
   "outputs": [],
   "source": [
    "rho = symbols('rho', cls=Function)\n",
    "qc = symbols('q_c')\n",
    "pc = symbols('p_c')\n",
    "G = symbols('G')\n",
    "Mstar, Rstar = symbols('M_\\star R_\\star')\n",
    "r = symbols('r')\n",
    "xi = symbols('xi')\n",
    "beta = symbols('beta')"
   ]
  },
  {
   "cell_type": "markdown",
   "metadata": {},
   "source": [
    "# 1.\n",
    "\n",
    "Consider a mass profile in a star:\n",
    "$$m(r) = 4\\pi R^3 \\beta \\left [ \\frac{1}{9} \\left (\\frac{r}{R} \\right )^3 - \\frac{1}{18} \\left ( \\frac{r}{R} \\right)^6 \\right ]$$\n",
    "where $\\beta$ is a constant"
   ]
  },
  {
   "cell_type": "markdown",
   "metadata": {},
   "source": [
    "## a. \n",
    "\n",
    "What is the density profile, $\\rho(r)$, that gives rise to this mass?"
   ]
  },
  {
   "cell_type": "markdown",
   "metadata": {},
   "source": [
    "First let's plot the function $m(r)$"
   ]
  },
  {
   "cell_type": "code",
   "execution_count": 3,
   "metadata": {},
   "outputs": [
    {
     "data": {
      "image/png": "[encoded data removed]",
      "text/latex": [
       "$\\displaystyle 4 \\pi R_{\\star}^{3} \\beta \\left(\\frac{r^{3}}{9 R_{\\star}^{3}} - \\frac{r^{6}}{18 R_{\\star}^{6}}\\right)$"
      ],
      "text/plain": [
       "               ⎛     3             6    ⎞\n",
       "           3   ⎜    r             r     ⎟\n",
       "4⋅π⋅R_\\star ⋅β⋅⎜────────── - ───────────⎟\n",
       "               ⎜         3             6⎟\n",
       "               ⎝9⋅R_\\star    18⋅R_\\star ⎠"
      ]
     },
     "execution_count": 3,
     "metadata": {},
     "output_type": "execute_result"
    }
   ],
   "source": [
    "m = 4*pi*Rstar**3*beta*(Rational(1, 9) * (r/Rstar)**3 - Rational(1, 18) * (r/Rstar)**6)\n",
    "m"
   ]
  },
  {
   "cell_type": "code",
   "execution_count": 4,
   "metadata": {},
   "outputs": [
    {
     "data": {
      "image/png": "[encoded data removed]",
      "text/plain": [
       "<Figure size 432x288 with 1 Axes>"
      ]
     },
     "metadata": {
      "needs_background": "light"
     },
     "output_type": "display_data"
    },
    {
     "data": {
      "text/plain": [
       "<sympy.plotting.plot.Plot at 0x7f93047648e0>"
      ]
     },
     "execution_count": 4,
     "metadata": {},
     "output_type": "execute_result"
    }
   ],
   "source": [
    "# to plot it, we need to make it dimensionless\n",
    "z = (m/(4*pi*Rstar**3*beta)).subs(r, xi*Rstar)\n",
    "plot(z, (xi, 0, 1), xlabel=r\"$r/R_\\star$\", ylabel=r\"$m(r)/(4\\pi R_\\star^3\\beta)$\")"
   ]
  },
  {
   "cell_type": "markdown",
   "metadata": {},
   "source": [
    "Now we get the density as\n",
    "\\begin{equation}\n",
    "\\rho = \\frac{1}{4\\pi r^2} dM/dr\n",
    "\\end{equation}"
   ]
  },
  {
   "cell_type": "code",
   "execution_count": 5,
   "metadata": {},
   "outputs": [
    {
     "data": {
      "image/png": "[encoded data removed]",
      "text/latex": [
       "$\\displaystyle \\frac{\\beta \\left(R_{\\star}^{3} - r^{3}\\right)}{3 R_{\\star}^{3}}$"
      ],
      "text/plain": [
       "  ⎛       3    3⎞\n",
       "β⋅⎝R_\\star  - r ⎠\n",
       "─────────────────\n",
       "             3   \n",
       "    3⋅R_\\star    "
      ]
     },
     "execution_count": 5,
     "metadata": {},
     "output_type": "execute_result"
    }
   ],
   "source": [
    "rho = m.diff(r, 1)/(4*pi*r**2)\n",
    "rho = simplify(rho)\n",
    "rho"
   ]
  },
  {
   "cell_type": "markdown",
   "metadata": {},
   "source": [
    "## b.\n",
    "\n",
    "What is $\\beta$ in terms of the central density?"
   ]
  },
  {
   "cell_type": "markdown",
   "metadata": {},
   "source": [
    "The central density is just $\\rho(0)$"
   ]
  },
  {
   "cell_type": "code",
   "execution_count": 6,
   "metadata": {},
   "outputs": [
    {
     "data": {
      "image/png": "[encoded data removed]",
      "text/latex": [
       "$\\displaystyle \\frac{\\beta}{3}$"
      ],
      "text/plain": [
       "β\n",
       "─\n",
       "3"
      ]
     },
     "execution_count": 6,
     "metadata": {},
     "output_type": "execute_result"
    }
   ],
   "source": [
    "rhoc = rho.subs(r, 0)\n",
    "rhoc"
   ]
  },
  {
   "cell_type": "markdown",
   "metadata": {},
   "source": [
    "So $\\beta = 3 \\rho_c$.  We can rewrite the density in terms of $\\rho_c$ now"
   ]
  },
  {
   "cell_type": "code",
   "execution_count": 7,
   "metadata": {},
   "outputs": [
    {
     "data": {
      "image/png": "[encoded data removed]",
      "text/latex": [
       "$\\displaystyle \\rho_{c} - \\frac{r^{3} \\rho_{c}}{R_{\\star}^{3}}$"
      ],
      "text/plain": [
       "        3     \n",
       "       r ⋅ρ_c \n",
       "ρ_c - ────────\n",
       "             3\n",
       "      R_\\star "
      ]
     },
     "execution_count": 7,
     "metadata": {},
     "output_type": "execute_result"
    }
   ],
   "source": [
    "rhoc = symbols(\"rho_c\")\n",
    "rho = simplify(rho.subs(beta, 3*rhoc))\n",
    "rho"
   ]
  },
  {
   "cell_type": "markdown",
   "metadata": {},
   "source": [
    "We can also rewrite the mass, $m(r)$, in terms of $\\rho_c$:"
   ]
  },
  {
   "cell_type": "code",
   "execution_count": 8,
   "metadata": {},
   "outputs": [
    {
     "data": {
      "image/png": "[encoded data removed]",
      "text/latex": [
       "$\\displaystyle \\frac{2 \\pi r^{3} \\rho_{c} \\left(2 R_{\\star}^{3} - r^{3}\\right)}{3 R_{\\star}^{3}}$"
      ],
      "text/plain": [
       "     3     ⎛         3    3⎞\n",
       "2⋅π⋅r ⋅ρ_c⋅⎝2⋅R_\\star  - r ⎠\n",
       "────────────────────────────\n",
       "                  3         \n",
       "         3⋅R_\\star          "
      ]
     },
     "execution_count": 8,
     "metadata": {},
     "output_type": "execute_result"
    }
   ],
   "source": [
    "m = simplify(m.subs(beta, 3*rhoc))\n",
    "m"
   ]
  },
  {
   "cell_type": "markdown",
   "metadata": {},
   "source": [
    "Notice that the density vanishes at $r = R_\\star$.  Now let's plot this.  "
   ]
  },
  {
   "cell_type": "code",
   "execution_count": 9,
   "metadata": {},
   "outputs": [
    {
     "data": {
      "image/png": "[encoded data removed]",
      "text/plain": [
       "<Figure size 432x288 with 1 Axes>"
      ]
     },
     "metadata": {
      "needs_background": "light"
     },
     "output_type": "display_data"
    },
    {
     "data": {
      "text/plain": [
       "<sympy.plotting.plot.Plot at 0x7f92c62eac10>"
      ]
     },
     "execution_count": 9,
     "metadata": {},
     "output_type": "execute_result"
    }
   ],
   "source": [
    "z = simplify((rho/rhoc).subs(r, xi*Rstar))\n",
    "plot(z, (xi, 0, 1), xlabel=r\"$r/R_\\star$\", ylabel=r\"$\\rho(r)/\\rho_c$\")"
   ]
  },
  {
   "cell_type": "markdown",
   "metadata": {},
   "source": [
    "## c.\n",
    "\n",
    "What is the ratio of the central density to the average density, $\\rho_c / \\bar{\\rho}$?"
   ]
  },
  {
   "cell_type": "markdown",
   "metadata": {},
   "source": [
    "The average density is just the total mass divided by the volume of the star.  First we get the total mass, $M_\\star = m(R_\\star)$"
   ]
  },
  {
   "cell_type": "code",
   "execution_count": 10,
   "metadata": {},
   "outputs": [
    {
     "data": {
      "image/png": "[encoded data removed]",
      "text/latex": [
       "$\\displaystyle \\frac{2 \\pi R_{\\star}^{3} \\rho_{c}}{3}$"
      ],
      "text/plain": [
       "           3    \n",
       "2⋅π⋅R_\\star ⋅ρ_c\n",
       "────────────────\n",
       "       3        "
      ]
     },
     "execution_count": 10,
     "metadata": {},
     "output_type": "execute_result"
    }
   ],
   "source": [
    "Mstar = m.subs(r, Rstar)\n",
    "Mstar"
   ]
  },
  {
   "cell_type": "markdown",
   "metadata": {},
   "source": [
    "and now we compute\n",
    "\\begin{equation}\n",
    "\\bar{\\rho} = \\frac{M_\\star}{(4/3) \\pi R_\\star^3}\n",
    "\\end{equation}"
   ]
  },
  {
   "cell_type": "code",
   "execution_count": 11,
   "metadata": {},
   "outputs": [
    {
     "data": {
      "image/png": "[encoded data removed]",
      "text/latex": [
       "$\\displaystyle \\frac{\\rho_{c}}{2}$"
      ],
      "text/plain": [
       "ρ_c\n",
       "───\n",
       " 2 "
      ]
     },
     "execution_count": 11,
     "metadata": {},
     "output_type": "execute_result"
    }
   ],
   "source": [
    "rhobar = symbols(r\"\\bar{\\rho}\")\n",
    "rhobar = Mstar / (Rational(4,3)*pi*Rstar**3)\n",
    "rhobar"
   ]
  },
  {
   "cell_type": "markdown",
   "metadata": {},
   "source": [
    "So $\\bar{\\rho} = \\rho_c/2$ and the ratio of $\\rho_c/\\bar{\\rho}$ is 2."
   ]
  },
  {
   "cell_type": "markdown",
   "metadata": {},
   "source": [
    "## d.\n",
    "\n",
    "What is the central pressure of the star for this mass distribution?"
   ]
  },
  {
   "cell_type": "markdown",
   "metadata": {},
   "source": [
    "Now we can integrate HSE.  We will do this as\n",
    "\n",
    "$$p = p_c + \\int_0^{R_\\star} \\frac{-Gm(r)}{r^2} \\rho dr$$\n",
    "\n",
    "Here I've written the integral in terms of $r$.\n",
    "We'll substitute in our expressions for $m(r)$ and $\\rho(r)$ in the integrand."
   ]
  },
  {
   "cell_type": "code",
   "execution_count": 12,
   "metadata": {},
   "outputs": [
    {
     "data": {
      "image/png": "[encoded data removed]",
      "text/latex": [
       "$\\displaystyle - \\frac{7 \\pi G R_{\\star}^{2} \\rho_{c}^{2}}{20} + p_{c}$"
      ],
      "text/plain": [
       "               2    2      \n",
       "  7⋅π⋅G⋅R_\\star ⋅ρ_c       \n",
       "- ─────────────────── + p_c\n",
       "           20              "
      ]
     },
     "execution_count": 12,
     "metadata": {},
     "output_type": "execute_result"
    }
   ],
   "source": [
    "pc = symbols(\"p_c\")\n",
    "p = pc + integrate(-G*m/r**2*rho, (r, 0, Rstar))\n",
    "p"
   ]
  },
  {
   "cell_type": "markdown",
   "metadata": {},
   "source": [
    "This was the integral to the surface, so this result is the surface pressure, but we know that $p(R_\\star) = 0$, \n",
    "so we can enforce that here to find $p_c$"
   ]
  },
  {
   "cell_type": "code",
   "execution_count": 13,
   "metadata": {},
   "outputs": [
    {
     "data": {
      "image/png": "[encoded data removed]",
      "text/latex": [
       "$\\displaystyle \\frac{7 \\pi G R_{\\star}^{2} \\rho_{c}^{2}}{20}$"
      ],
      "text/plain": [
       "             2    2\n",
       "7⋅π⋅G⋅R_\\star ⋅ρ_c \n",
       "───────────────────\n",
       "         20        "
      ]
     },
     "execution_count": 13,
     "metadata": {},
     "output_type": "execute_result"
    }
   ],
   "source": [
    "pc = solve(Eq(p, 0), pc)[0]\n",
    "pc"
   ]
  },
  {
   "cell_type": "markdown",
   "metadata": {},
   "source": [
    "This is $p_c$ in terms of $\\rho_c$, but we can substitute in $\\rho_c = 2 \\bar{\\rho}$ to find the central pressure in terms of $M_\\star$ and $R_\\star$.\n",
    "(Note to make the code use $M_\\star$ and not its equivalent in terms of $\\rho_c$ found above, I am defining a new symbol $M$ here that will represent the total mass of the star.)"
   ]
  },
  {
   "cell_type": "code",
   "execution_count": 14,
   "metadata": {},
   "outputs": [
    {
     "data": {
      "image/png": "[encoded data removed]",
      "text/latex": [
       "$\\displaystyle \\frac{63 G M^{2}}{80 \\pi R_{\\star}^{4}}$"
      ],
      "text/plain": [
       "         2   \n",
       "   63⋅G⋅M    \n",
       "─────────────\n",
       "            4\n",
       "80⋅π⋅R_\\star "
      ]
     },
     "execution_count": 14,
     "metadata": {},
     "output_type": "execute_result"
    }
   ],
   "source": [
    "M = symbols(\"M\")\n",
    "pc.subs(rhoc, 2*M/(Rational(4,3)*pi*Rstar**3))"
   ]
  },
  {
   "cell_type": "markdown",
   "metadata": {},
   "source": [
    "From this expression, we see that $f = 63/(80\\pi)$."
   ]
  },
  {
   "cell_type": "markdown",
   "metadata": {},
   "source": [
    "## e.\n",
    "\n",
    "What is the total gravitational potential energy, $\\Omega$, of the star?"
   ]
  },
  {
   "cell_type": "markdown",
   "metadata": {},
   "source": [
    "We integrate\n",
    "\n",
    "$$\\Omega = -\\int_0^{M_\\star} \\frac{Gm(r)}{r} dm = -\\int_0^{R_\\star} \\frac{G m(r)}{r} 4\\pi r^2 \\rho dr$$\n",
    "\n",
    "To do this, we use our expression for $m(r)$ and $\\rho(r)$"
   ]
  },
  {
   "cell_type": "code",
   "execution_count": 15,
   "metadata": {},
   "outputs": [],
   "source": [
    "Omega = symbols(\"Omega\")\n",
    "Omega = integrate(-G*m*4*pi*r*rho, (r, 0, Rstar))"
   ]
  },
  {
   "cell_type": "code",
   "execution_count": 16,
   "metadata": {},
   "outputs": [
    {
     "data": {
      "image/png": "[encoded data removed]",
      "text/latex": [
       "$\\displaystyle - \\frac{17 \\pi^{2} G R_{\\star}^{5} \\rho_{c}^{2}}{55}$"
      ],
      "text/plain": [
       "     2          5    2 \n",
       "-17⋅π ⋅G⋅R_\\star ⋅ρ_c  \n",
       "───────────────────────\n",
       "           55          "
      ]
     },
     "execution_count": 16,
     "metadata": {},
     "output_type": "execute_result"
    }
   ],
   "source": [
    "Omega"
   ]
  },
  {
   "cell_type": "markdown",
   "metadata": {},
   "source": [
    "We can rewrite this in terms of mass, by using $\\rho_c = 2 \\bar{\\rho}$ that we found for this model above"
   ]
  },
  {
   "cell_type": "code",
   "execution_count": 17,
   "metadata": {},
   "outputs": [
    {
     "data": {
      "image/png": "[encoded data removed]",
      "text/latex": [
       "$\\displaystyle - \\frac{153 G M^{2}}{220 R_{\\star}}$"
      ],
      "text/plain": [
       "         2 \n",
       " -153⋅G⋅M  \n",
       "───────────\n",
       "220⋅R_\\star"
      ]
     },
     "execution_count": 17,
     "metadata": {},
     "output_type": "execute_result"
    }
   ],
   "source": [
    "Omega = Omega.subs(rhoc, 2*M/(Rational(4,3)*pi*Rstar**3))\n",
    "Omega"
   ]
  },
  {
   "cell_type": "markdown",
   "metadata": {},
   "source": [
    "So this shows that $\\alpha = 153/220$."
   ]
  },
  {
   "cell_type": "code",
   "execution_count": null,
   "metadata": {},
   "outputs": [],
   "source": []
  }
 ],
 "metadata": {
  "kernelspec": {
   "display_name": "Python 3 (ipykernel)",
   "language": "python",
   "name": "python3"
  },
  "language_info": {
   "codemirror_mode": {
    "name": "ipython",
    "version": 3
   },
   "file_extension": ".py",
   "mimetype": "text/x-python",
   "name": "python",
   "nbconvert_exporter": "python",
   "pygments_lexer": "ipython3",
   "version": "3.9.7"
  }
 },
 "nbformat": 4,
 "nbformat_minor": 4
}
